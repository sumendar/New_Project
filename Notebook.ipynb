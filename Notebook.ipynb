{
 "cells": [
  {
   "cell_type": "code",
   "execution_count": 1,
   "id": "63e4fd1b-5a11-4961-9416-b513ac11c6db",
   "metadata": {
    "tags": []
   },
   "outputs": [],
   "source": [
    "import cv2\n",
    "import pytesseract\n",
    "from PIL import Image\n",
    "import numpy as np"
   ]
  },
  {
   "cell_type": "code",
   "execution_count": 2,
   "id": "0ac0f258",
   "metadata": {},
   "outputs": [],
   "source": [
    "pytesseract.pytesseract.tesseract_cmd = r'C:\\Program Files\\Tesseract-OCR\\tesseract.exe'"
   ]
  },
  {
   "cell_type": "code",
   "execution_count": 3,
   "id": "9e2698f9-6b2f-4b8f-8f91-45ab702c0282",
   "metadata": {
    "tags": []
   },
   "outputs": [
    {
     "name": "stdout",
     "output_type": "stream",
     "text": [
      "Tesseract sample\n",
      "\n"
     ]
    }
   ],
   "source": [
    "filename = '1_python-ocr.jpg'\n",
    "img1 = np.array(Image.open(filename))\n",
    "text = pytesseract.image_to_string(img1)\n",
    "print(text)"
   ]
  },
  {
   "cell_type": "code",
   "execution_count": 4,
   "id": "0169d57e-827d-4139-ba34-c5dd4e71e150",
   "metadata": {},
   "outputs": [
    {
     "name": "stdout",
     "output_type": "stream",
     "text": [
      "LOM Rw nm\n",
      "\n",
      "DATE: 12-102023,\n",
      "NAME POSITION TASK_LIST\n",
      "Compare with the table with looking up one column matched values in another column should be displayed in total columns in the result table\n",
      "Vlookup formula to automate for the non programmer or not familiar with much excel formulas\n",
      "Installation of various software tools related to data analysis, data science installed on office computer\n",
      "SUMENDAR KARUPAKALA DATA ANALYST Matching assembly wise each district name lookup and placed in Block and Mandal sheet from the District wise AC Sheet\n",
      "\n"
     ]
    }
   ],
   "source": [
    "filename2 = 'Task_Lists_20231012.png'\n",
    "img2 = np.array(Image.open(filename2))\n",
    "text2 = pytesseract.image_to_string(img2)\n",
    "print(text2)"
   ]
  },
  {
   "cell_type": "code",
   "execution_count": 5,
   "id": "2f29be5f",
   "metadata": {
    "scrolled": true
   },
   "outputs": [
    {
     "name": "stdout",
     "output_type": "stream",
     "text": [
      "Assembly Constituency No and Name : 25-PEDDAPALLE Part No, : 88\n",
      "Section No and Name 2-Rajendra Nagar\n",
      "340 ZZv2166668 341 ZZV2166700 342 ZZV2166742\n",
      "Name t Kadari Thirupathir Name :Kadari Sarojana Name ? Kadari Lakshman R\n",
      "Fathers Name: Rajeshwar A Husbands Name: Thirupathir Fathers Nama: Thirupathi A\n",
      "House Number 2-104 Photo House Number + 2-104 Photo House Number : 2-104 Phato\n",
      "Age +70 Gender ? Male Age +65 Gender Female Age ?45 Gender : Male\n",
      "Available Available Available\n",
      "343 BCL2126183 344, Z2V2 166783 346 Z2V2166635\n",
      "Name : Kadarl Vijaya Name : Kadan Manendar R Name : Kadan Srintvasarao\n",
      "Husbands Name+ Lakshman Rao Fathers Name? Malla! A Fathers Name: Mallal R\n",
      "House Number : 2-104 Photo House Number : 2-105 Photo House Number : 2-105 Photo\n",
      "Age 141 Gender : Female Age : 47 Gender : Male Age 245 Gender : Male\n",
      "Available Available Available\n",
      "346 Z2V2 160866 347 Z2ZV2166494 348 ZZV218272\n",
      "Name ! Kadari Shushil Name = Gannamneni Parmila Name ? Gannamneni Thirupathir\n",
      "Husbands Name? Hanmantarawu Husbands Name: Chandar R Fathers Name: Chandar R\n",
      "House Number : 2-107 Photo House Number : 2-108 Phato House Number + 2-108 Phato\n",
      "Age +65 Gender : Female Age : 70 Gender + Female Age : 45 Gender : Male\n",
      "Available Available Avallable\n",
      "349 22V27 18575 350 Z2V27 8567 351 Z2V2166908\n",
      "Nama + VENNELA GANNAMANEN Narme : MANIGHARAN RAG Name 2 Gannamneni Kanksenarao.\n",
      "Husbands Name: THIRUPATHIRAO: GANNAMANENI Fathers Name: Raghavarac\n",
      "GANNAMANENI Photo Fathers Name: THIRUPATHI RAG Photo House Number ¢2-106/1 Pheto\n",
      "House Number : 2-108 GANNAMANENI Age #45 Gender tMale\n",
      "Age 147 Gender : Famale Available ae pee Available Avaitable\n",
      "552 Z2V2165744 354 BCL1197839 354 220003624\n",
      "Name + Gannamnneni Shuvarma Name : Gannamneni Srinivasarao Name > Gannamaneni Kiran Rao\n",
      "Husbands Name? Kanksena A Fathers Name? Kanksenaraa Fathers Name? Kanakasene Rag\n",
      "House Nuriber ¢2-108/1 Photo House Number 2-108/1 Photo House Number t2-108/1 Photo\n",
      "Age : 5? Gender : Female Age : 37 Gender : Mate Age 36 Gander = Male\n",
      "Available Available Avaliable\n",
      "366 ZEVOTI9T IA 356 Z2V28117 68 357 Z2V2166080\n",
      "‘Name ' Gannamaneni Srilatha Name = GANNAMANENI RUKMINI Name : Gannarninem Sugna\n",
      "Husbands Name Srinivas Rac Husbands Namei KIRAN RAG Husbands Name: Aajeshvara A\n",
      "House Number : 2-108/1 Photo House Number :2-106/1 Photo House Number :2-108/2 Photo\n",
      "Age +44 Gender : Female Aga 22 Gender + Female Age 53 Gender : Female\n",
      "Available Available Available\n",
      "358 ZZV1027532 359 Z2V0193029 360 ZZV1027540\n",
      "Name * Gannamaneni Sampath Rac Name = Gannamaneni Sagar Rao Name ? Gannamaneni Narmada\n",
      "Fathers Name: Rajeshwar Rao Fathers Name: Rajeshwar Rao Husbands Name: Sampath Reo\n",
      "House Numbar : 2-108/2 Photo House Number :2-108/2 Photo House Number :2-108/2 Photo\n",
      "Age : 41 Gender : Maia Age : 37 Gender : Male Age 32 Gender : Female\n",
      "Available Available Available\n",
      "361 Z2V1690395 362 ZZV2165595 363 222166031\n",
      "Nama ! Gannamaneni Shravani Rao Name : Gannamneni Sudhakar A Name : Gannamneni Nealamma\n",
      "Husbands Name: Srinivas Raa Fathers Narre: Raghavaraa Husbands Name: Sudakar R\n",
      "House Number : 2-108/2 Photo House Number * 2-108/3 Photo House Number = 2-108/3 Prato\n",
      "Age +29 Gender : Female Age +58 Gender ! Male Age : 50 Gender ! Female\n",
      "Available Available Available\n",
      "364 ZZV0003590 366 Z2ZVO727610 366 ZZV1299483\n",
      "Name = Thirupathi Rac Gannamaneni Name : Srinivasa Rao Gannamaneni Name : Rama Gannamaneni\n",
      "Fathers Name? Sudhakar Rao Gannamanen! Fathers Name? Sudhakar Rao Gannamaneni Husbands Name: Thirupathi Rao\n",
      "House Number :2-108/3 Photo House Number :2-108/3 Photo Gannamaneni Photo\n",
      "Age :38 Gender : Mala Age : 34 Gender : Male Housa Number :2-108/5\n",
      "Available Avallable | | | 499 *39 Gender : Female Available\n",
      "S67 BOLTIV8T18 368 BGL1198092 369 22v0003d34\n",
      "Name t Gannamneni Buchchar Name = Gannamneni Sathyemma Name ? Gannamenani Kishan Rao\n",
      "Fathers Namet Gopal R Husbands Name: Buchchar Fathers Name: Buchiran\n",
      "House Number : 2-108/4 Photo House Number :2-108/4 Photo House Number :2-108/4 Photo\n",
      "Age +55 Gender + Male Age : 50 Gender : Fernale Age > 35 Gender : Male\n",
      "\n",
      "\n"
     ]
    }
   ],
   "source": [
    "filename3 = 'voters_pdpl_ocr_00015.jpg'\n",
    "img3 = np.array(Image.open(filename3))\n",
    "text3 = pytesseract.image_to_string(img3)\n",
    "print(text3)"
   ]
  }
 ],
 "metadata": {
  "hide_input": false,
  "kernelspec": {
   "display_name": "Python 3 (ipykernel)",
   "language": "python",
   "name": "python3"
  },
  "language_info": {
   "codemirror_mode": {
    "name": "ipython",
    "version": 3
   },
   "file_extension": ".py",
   "mimetype": "text/x-python",
   "name": "python",
   "nbconvert_exporter": "python",
   "pygments_lexer": "ipython3",
   "version": "3.11.4"
  },
  "toc": {
   "base_numbering": 1,
   "nav_menu": {},
   "number_sections": true,
   "sideBar": true,
   "skip_h1_title": false,
   "title_cell": "Table of Contents",
   "title_sidebar": "Contents",
   "toc_cell": false,
   "toc_position": {},
   "toc_section_display": true,
   "toc_window_display": false
  },
  "varInspector": {
   "cols": {
    "lenName": 16,
    "lenType": 16,
    "lenVar": 40
   },
   "kernels_config": {
    "python": {
     "delete_cmd_postfix": "",
     "delete_cmd_prefix": "del ",
     "library": "var_list.py",
     "varRefreshCmd": "print(var_dic_list())"
    },
    "r": {
     "delete_cmd_postfix": ") ",
     "delete_cmd_prefix": "rm(",
     "library": "var_list.r",
     "varRefreshCmd": "cat(var_dic_list()) "
    }
   },
   "types_to_exclude": [
    "module",
    "function",
    "builtin_function_or_method",
    "instance",
    "_Feature"
   ],
   "window_display": false
  }
 },
 "nbformat": 4,
 "nbformat_minor": 5
}
